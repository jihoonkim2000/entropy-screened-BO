{
 "cells": [
  {
   "cell_type": "code",
   "execution_count": null,
   "id": "015ef44e",
   "metadata": {},
   "outputs": [],
   "source": [
    "#preprocessing\n",
    "import pandas as pd\n",
    "import numpy as np\n",
    "import matplotlib.pyplot as plt\n",
    "import shap\n",
    "from sklearn.gaussian_process import GaussianProcessRegressor\n",
    "from sklearn.gaussian_process.kernels import DotProduct, WhiteKernel, Matern, ConstantKernel, ExpSineSquared, RBF, RationalQuadratic\n",
    "from itertools import product\n",
    "from scipy.optimize import minimize\n",
    "from sklearn import preprocessing\n",
    "from sklearn.model_selection import KFold\n",
    "from sklearn.model_selection import cross_val_score\n",
    "from sklearn.svm import SVR\n",
    "from sklearn.model_selection import cross_validate as CV\n",
    "from sklearn.metrics import mean_squared_error, r2_score\n",
    "from sklearn.model_selection import train_test_split\n",
    "from scipy.stats import norm\n",
    "import random\n",
    "import time\n",
    "import math"
   ]
  },
  {
   "cell_type": "code",
   "execution_count": null,
   "id": "be702be2",
   "metadata": {},
   "outputs": [],
   "source": [
    "# Load the spreadsheet\n",
    "file_path = 'Bare BO dataset.csv'\n",
    "data = pd.read_csv(file_path)\n",
    "# Display the first few rows of the dataframe to understand its structure\n",
    "data.head()"
   ]
  },
  {
   "cell_type": "code",
   "execution_count": null,
   "id": "f1e68094",
   "metadata": {},
   "outputs": [],
   "source": [
    "# Renaming columns for clarity\n",
    "data.columns = ['Mn', 'Fe', 'Co', 'Ni', 'Cu', 'Mo', 'Objective']\n",
    "\n",
    "# Splitting the data into inputs (X) and output (y)\n",
    "X = data[['Mn', 'Fe', 'Co', 'Ni', 'Cu', 'Mo']].values\n",
    "y = data['Objective'].values\n",
    "X = X/90"
   ]
  },
  {
   "cell_type": "code",
   "execution_count": null,
   "id": "43d26b4f",
   "metadata": {},
   "outputs": [],
   "source": [
    "#fitting\n",
    "kernel = 1.0 * Matern(nu=1.5) \n",
    "gp = GaussianProcessRegressor(kernel=kernel, alpha = 0.15, n_restarts_optimizer=1000, normalize_y = True)\n",
    "gp.fit(X, y)\n",
    "gp.kernel_"
   ]
  },
  {
   "cell_type": "code",
   "execution_count": null,
   "id": "11c2e711",
   "metadata": {},
   "outputs": [],
   "source": [
    "def generate_constrained_points(variable_index, n_points):\n",
    "    x_points = np.linspace(0, 1, n_points)\n",
    "    points = np.zeros((n_points, 6))\n",
    "\n",
    "    for i in range(n_points):\n",
    "        x = x_points[i]\n",
    "        points[i, variable_index] = x\n",
    "\n",
    "        candidates = []\n",
    "        random_numbers = [random.randint(1, n_points) for _ in range(5)]\n",
    "        total = sum(random_numbers)\n",
    "        results = [round((1-x)*number / total, 4) for number in random_numbers] #randomly generate 6 numbers with boundary\n",
    "        candidates.append(results)\n",
    "        # # allocate array\n",
    "        selected_candidate = candidates[0]\n",
    "        \n",
    "        candidate_index = 0\n",
    "        for j in range(6):\n",
    "            if j != variable_index:\n",
    "                points[i, j] = selected_candidate[candidate_index]\n",
    "                candidate_index += 1\n",
    "                \n",
    "    return points"
   ]
  },
  {
   "cell_type": "code",
   "execution_count": null,
   "id": "3f7ad138",
   "metadata": {},
   "outputs": [],
   "source": [
    "def average_predictions(gp, variable_index, n_points, n_iterations=10000):\n",
    "    total_y_pred = 0\n",
    "    total_sigma = 0\n",
    "    pointsarray = []\n",
    "    for _ in range(n_iterations):\n",
    "        points = generate_constrained_points(variable_index, n_points)\n",
    "        pointsarray.append(points)\n",
    "        y_pred, sigma = gp.predict(points, return_std=True)\n",
    "\n",
    "        total_y_pred += y_pred\n",
    "        total_sigma += sigma\n",
    "\n",
    "    # calculation of average\n",
    "    average_y_pred = total_y_pred / n_iterations\n",
    "    average_sigma = total_sigma / n_iterations\n",
    "    \n",
    "    for i in range(n_iterations-1):\n",
    "    # concatenate pointsarray[i] to result_array\n",
    "        result_array = np.concatenate((pointsarray[i], pointsarray[i+1]), axis=0)\n",
    "\n",
    "    return average_y_pred, average_sigma, result_array"
   ]
  },
  {
   "cell_type": "code",
   "execution_count": null,
   "id": "a77036f2",
   "metadata": {},
   "outputs": [],
   "source": [
    "def find_uncertainty_by_line(gp, n_points):\n",
    "    variable_index=[0,1,2,3,4,5]\n",
    "    y_pred_list=[]\n",
    "    sigma_list=[]\n",
    "    array_list=[]\n",
    "    for i in range(len(variable_index)):\n",
    "        y_pred, sigma, array = average_predictions(gp, variable_index[i], n_points)\n",
    "        y_pred_list.append(y_pred)\n",
    "        sigma_list.append(sigma)\n",
    "        array_list.append(array)\n",
    "    return y_pred_list, sigma_list, array_list"
   ]
  },
  {
   "cell_type": "code",
   "execution_count": null,
   "id": "e3c07df8",
   "metadata": {},
   "outputs": [],
   "source": [
    "n_points = 91  # number of points to generate\n",
    "\n",
    "start_time = time.time()  # check time\n",
    "\n",
    "y_pred, sigma, array = find_uncertainty_by_line(gp, n_points)\n",
    "\n",
    "end_time = time.time()\n",
    "total = end_time - start_time\n",
    "print(\"prediction time :\", total) "
   ]
  },
  {
   "cell_type": "code",
   "execution_count": null,
   "id": "63a14055",
   "metadata": {},
   "outputs": [],
   "source": [
    "# Plotting\n",
    "variable = [0,1,2,3,4,5]\n",
    "variable_index = 5\n",
    "plt.figure(figsize=(6, 4.5))\n",
    "plt.plot(array[variable_index][:n_points, variable[variable_index]], y_pred[variable_index],'b-',label = 'GP prediction')\n",
    "plt.fill_between(array[variable_index][:n_points, variable[variable_index]], y_pred[variable_index] - sigma[variable_index], y_pred[variable_index] + sigma[variable_index], alpha=0.2, color='blue', label = 'Uncertainty')\n",
    "plt.xlabel(f'{data.columns[variable[variable_index]]}')\n",
    "plt.ylabel('OWS overpotential(mV)')\n",
    "plt.xlim(0,0.9)\n",
    "plt.ylim(250,900)\n",
    "plt.legend(loc='upper left')\n",
    "plt.show()"
   ]
  },
  {
   "cell_type": "code",
   "execution_count": null,
   "id": "2ec1dc94",
   "metadata": {},
   "outputs": [],
   "source": [
    "def acquisition_func(gp, n_points):\n",
    "    x_points = np.linspace(0, 90, n_points)\n",
    "    points = np.zeros((n_points, 6))\n",
    "\n",
    "    candidates = []\n",
    "    y_pred_list = []\n",
    "    sigma_list = []\n",
    "    entropy = []\n",
    "    for i in range(1000000):\n",
    "        random_numbers = [random.randint(1, 100) for _ in range(6)]\n",
    "        # calculate the sum of six random numbers\n",
    "        total = sum(random_numbers)\n",
    "        # calculate the normalized value and round it to 2 decimals\n",
    "        results = [round(0.9*number / total, 2) for number in random_numbers]\n",
    "        candidates.append(results)\n",
    "    \n",
    "    y_pred, sigma = gp.predict(candidates, return_std=True)\n",
    "    for i in range(len(candidates)):\n",
    "        s = (-1)*0.1*np.log(0.05)\n",
    "        for j in range(6):\n",
    "            s += (-1)*(candidates[i][j]*np.log(candidates[i][j]+1e-9))\n",
    "        entropy.append(s)\n",
    "    return y_pred, sigma, entropy, candidates"
   ]
  },
  {
   "cell_type": "code",
   "execution_count": null,
   "id": "629718cd",
   "metadata": {},
   "outputs": [],
   "source": [
    "acq_y_pred, sigma, entropy, candidates = acquisition_func(gp, 91)\n",
    "acq_array = acq_y_pred.max() - acq_y_pred + 2*sigma\n",
    "candidates_list = []"
   ]
  },
  {
   "cell_type": "code",
   "execution_count": null,
   "id": "4bfafce8",
   "metadata": {},
   "outputs": [],
   "source": [
    "for i in range(99):\n",
    "    max_acq_index = np.argmax(acq_array)\n",
    "    candidates_list.append(candidates[max_acq_index])\n",
    "    acq_array = np.delete(acq_array, max_acq_index, axis=0)\n",
    "print(candidates_list)"
   ]
  }
 ],
 "metadata": {
  "kernelspec": {
   "display_name": "Python 3 (ipykernel)",
   "language": "python",
   "name": "python3"
  },
  "language_info": {
   "codemirror_mode": {
    "name": "ipython",
    "version": 3
   },
   "file_extension": ".py",
   "mimetype": "text/x-python",
   "name": "python",
   "nbconvert_exporter": "python",
   "pygments_lexer": "ipython3",
   "version": "3.11.5"
  }
 },
 "nbformat": 4,
 "nbformat_minor": 5
}
